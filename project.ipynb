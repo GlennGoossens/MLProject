{
 "cells": [
  {
   "cell_type": "markdown",
   "metadata": {},
   "source": [
    "## Project Kijkcijfers\n",
    "Onderzoeken welke facturen de kijkcijfers beïnvloeden alsook kijkcijfers voorspellen.\n",
    "\n",
    "### Stappenplan\n",
    "1. Probleemstelling\n",
    "2. Data gathering\n",
    "3. Data visualiseren en analyseren\n",
    "4. Data cleaning\n",
    "5. Model selection and training\n",
    "6. Fine tune model\n",
    "6. Launch & maintain"
   ]
  },
  {
   "cell_type": "markdown",
   "metadata": {},
   "source": [
    "# Probleemstelling\n",
    "Onderzoeken welke facturen de kijkcijfers beïnvloeden alsook kijkcijfers voorspellen."
   ]
  },
  {
   "cell_type": "markdown",
   "metadata": {},
   "source": [
    "# Data gathering\n",
    "Data van de kijkcijfers is de vinden op CIM. We maken een klein python scriptje die iteratief de data van via API calls ophaalt bij CIM en vervolgens opslaat in een csv file. zie 'gather-views.py'\n",
    "\n",
    "1ste probleem: data voor 14 en 15 augustus 2019 ontbreken. We passen het script aan zodat het niet stopt als er 1 dag geen data gevonden wordt, maar pas stopt als het 5 achtereenvolgende dagen geen data meer kan ophalen.\n",
    "\n",
    "Data wordt opgeslaan in 'tv_views_data.csv'\n",
    "\n",
    "Sidenote: Ik heb er aan gedacht om de weersvoorspelling toe te voegen aan deze datalijst maar in mijn opinie zorgt dit voor een extra probabiliteit en hebben we meer info door gebruik te maken van seizoenen. Uit mijn ervaring is de weersvoorspelling in België een extra factor van onzekerheid en daarom geen goede maatstaf om toe te voegen aan het model."
   ]
  },
  {
   "cell_type": "markdown",
   "metadata": {},
   "source": [
    "# Data visualisatie\n",
    "Hier gaan we de data uit de csv visualiseren en onderzoeken. Kijken waar we bepaalde zaken kunnen opkuisen en eventueel al enkele patronen kunnen opmerken.\n",
    "\n",
    "Hieronder importeren we eerst enkele belangrijke packages alsook een check van de python versie zoals we in elke les deden."
   ]
  },
  {
   "cell_type": "code",
   "execution_count": 2,
   "metadata": {},
   "outputs": [
    {
     "name": "stdout",
     "output_type": "stream",
     "text": [
      "1.6.1\n"
     ]
    }
   ],
   "source": [
    "# Python ≥3.11 is required\n",
    "import sys\n",
    "assert sys.version_info >= (3, 11)\n",
    "\n",
    "# Scikit-Learn ≥ 1.6 is required\n",
    "from packaging import version\n",
    "import sklearn\n",
    "print(sklearn.__version__)\n",
    "assert version.parse(sklearn.__version__) >= version.parse(\"1.6\")\n",
    "\n",
    "# Common imports\n",
    "import numpy as np\n",
    "import pandas as pd\n",
    "import os\n",
    "\n",
    "# To plot pretty figures\n",
    "import matplotlib as mpl\n",
    "import matplotlib.pyplot as plt"
   ]
  },
  {
   "cell_type": "markdown",
   "metadata": {},
   "source": [
    "We lezen de data en in bekijken de eerste 10 records, daarna bekijken we de info van de algehele tabel."
   ]
  },
  {
   "cell_type": "code",
   "execution_count": 3,
   "metadata": {},
   "outputs": [
    {
     "data": {
      "text/html": [
       "<div>\n",
       "<style scoped>\n",
       "    .dataframe tbody tr th:only-of-type {\n",
       "        vertical-align: middle;\n",
       "    }\n",
       "\n",
       "    .dataframe tbody tr th {\n",
       "        vertical-align: top;\n",
       "    }\n",
       "\n",
       "    .dataframe thead th {\n",
       "        text-align: right;\n",
       "    }\n",
       "</style>\n",
       "<table border=\"1\" class=\"dataframe\">\n",
       "  <thead>\n",
       "    <tr style=\"text-align: right;\">\n",
       "      <th></th>\n",
       "      <th>description</th>\n",
       "      <th>category</th>\n",
       "      <th>channel</th>\n",
       "      <th>startTime</th>\n",
       "      <th>rLength</th>\n",
       "      <th>rateInK</th>\n",
       "      <th>weather</th>\n",
       "      <th>temperature</th>\n",
       "    </tr>\n",
       "  </thead>\n",
       "  <tbody>\n",
       "    <tr>\n",
       "      <th>THUIS</th>\n",
       "      <td>NaN</td>\n",
       "      <td>VRT 1</td>\n",
       "      <td>20:24:14</td>\n",
       "      <td>00:24:08</td>\n",
       "      <td>873.935</td>\n",
       "      <td>NaN</td>\n",
       "      <td>NaN</td>\n",
       "      <td>2025-04-03</td>\n",
       "    </tr>\n",
       "    <tr>\n",
       "      <th>HET 7 UUR-JOURNAAL</th>\n",
       "      <td>NaN</td>\n",
       "      <td>VRT 1</td>\n",
       "      <td>19:00:05</td>\n",
       "      <td>00:48:22</td>\n",
       "      <td>859.904</td>\n",
       "      <td>NaN</td>\n",
       "      <td>NaN</td>\n",
       "      <td>2025-04-03</td>\n",
       "    </tr>\n",
       "    <tr>\n",
       "      <th>MAN BIJT HOND</th>\n",
       "      <td>NaN</td>\n",
       "      <td>VRT 1</td>\n",
       "      <td>19:51:09</td>\n",
       "      <td>00:24:55</td>\n",
       "      <td>702.872</td>\n",
       "      <td>NaN</td>\n",
       "      <td>NaN</td>\n",
       "      <td>2025-04-03</td>\n",
       "    </tr>\n",
       "    <tr>\n",
       "      <th>NIEUWS 19U VTM</th>\n",
       "      <td>NaN</td>\n",
       "      <td>VTM</td>\n",
       "      <td>18:59:50</td>\n",
       "      <td>00:59:10</td>\n",
       "      <td>562.650</td>\n",
       "      <td>NaN</td>\n",
       "      <td>NaN</td>\n",
       "      <td>2025-04-03</td>\n",
       "    </tr>\n",
       "    <tr>\n",
       "      <th>BLOKKEN</th>\n",
       "      <td>NaN</td>\n",
       "      <td>VRT 1</td>\n",
       "      <td>18:29:28</td>\n",
       "      <td>00:28:30</td>\n",
       "      <td>478.774</td>\n",
       "      <td>NaN</td>\n",
       "      <td>NaN</td>\n",
       "      <td>2025-04-03</td>\n",
       "    </tr>\n",
       "  </tbody>\n",
       "</table>\n",
       "</div>"
      ],
      "text/plain": [
       "                    description category   channel startTime  rLength  \\\n",
       "THUIS                       NaN    VRT 1  20:24:14  00:24:08  873.935   \n",
       "HET 7 UUR-JOURNAAL          NaN    VRT 1  19:00:05  00:48:22  859.904   \n",
       "MAN BIJT HOND               NaN    VRT 1  19:51:09  00:24:55  702.872   \n",
       "NIEUWS 19U VTM              NaN      VTM  18:59:50  00:59:10  562.650   \n",
       "BLOKKEN                     NaN    VRT 1  18:29:28  00:28:30  478.774   \n",
       "\n",
       "                    rateInK  weather temperature  \n",
       "THUIS                   NaN      NaN  2025-04-03  \n",
       "HET 7 UUR-JOURNAAL      NaN      NaN  2025-04-03  \n",
       "MAN BIJT HOND           NaN      NaN  2025-04-03  \n",
       "NIEUWS 19U VTM          NaN      NaN  2025-04-03  \n",
       "BLOKKEN                 NaN      NaN  2025-04-03  "
      ]
     },
     "execution_count": 3,
     "metadata": {},
     "output_type": "execute_result"
    }
   ],
   "source": [
    "tv_views = pd.read_csv('tv_views_data.csv')\n",
    "tv_views.head()\n"
   ]
  },
  {
   "cell_type": "markdown",
   "metadata": {},
   "source": [
    "Als we de info van de lijst bekijken zien we dat er heel wat null values zijn. Ik wil eerst alle data bekijken alvorens ik dit ga opkuisen. Zo krijg ik al een eerste visueel beeld van de data alvorens ik vanalles ga verwijderen. Ookal ben ik vrijwel zeker dat de null values weg mogen."
   ]
  },
  {
   "cell_type": "code",
   "execution_count": 4,
   "metadata": {},
   "outputs": [
    {
     "name": "stdout",
     "output_type": "stream",
     "text": [
      "<class 'pandas.core.frame.DataFrame'>\n",
      "Index: 62459 entries, THUIS to MOUNTAINBIKE. WB. FIN TRIAL ANTWERPEN\n",
      "Data columns (total 8 columns):\n",
      " #   Column       Non-Null Count  Dtype  \n",
      "---  ------       --------------  -----  \n",
      " 0   description  0 non-null      float64\n",
      " 1   category     62373 non-null  object \n",
      " 2   channel      62371 non-null  object \n",
      " 3   startTime    62370 non-null  object \n",
      " 4   rLength      62370 non-null  object \n",
      " 5   rateInK      0 non-null      float64\n",
      " 6   weather      0 non-null      float64\n",
      " 7   temperature  62459 non-null  object \n",
      "dtypes: float64(3), object(5)\n",
      "memory usage: 4.3+ MB\n"
     ]
    }
   ],
   "source": [
    "tv_views.info()\n"
   ]
  },
  {
   "cell_type": "markdown",
   "metadata": {},
   "source": [
    "Eerst doen we een algemene visualisatie van de data. Daarna wil ook wat dieper ingaan op de data rond de Covid-19 lockdown periodes. Volgens mij zouden de kijkcijfers daar iets hoger liggen dan het gemiddelde. Afhankelijk van deze observatie moet ik de beslissing maken of ik deze data als uitschieter benoem of niet. Want laat ons hopen dat zo'n lockdown niet meer terugkomt.\n",
    "\n",
    "Periode waar horeca gesloten was:\n",
    "- 13 maart 2020 tot 8 juni 2020\n",
    "- 16 oktober 2020 tot 11 mei 2021"
   ]
  }
 ],
 "metadata": {
  "kernelspec": {
   "display_name": "venv",
   "language": "python",
   "name": "python3"
  },
  "language_info": {
   "codemirror_mode": {
    "name": "ipython",
    "version": 3
   },
   "file_extension": ".py",
   "mimetype": "text/x-python",
   "name": "python",
   "nbconvert_exporter": "python",
   "pygments_lexer": "ipython3",
   "version": "3.12.8"
  }
 },
 "nbformat": 4,
 "nbformat_minor": 2
}
