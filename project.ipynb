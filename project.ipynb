{
 "cells": [
  {
   "cell_type": "markdown",
   "metadata": {},
   "source": [
    "## Project Kijkcijfers\n",
    "Onderzoeken welke facturen de kijkcijfers beïnvloeden alsook kijkcijfers voorspellen.\n",
    "\n",
    "### Stappenplan\n",
    "1. Probleemstelling\n",
    "2. Data gathering\n",
    "3. Data visualiseren en analyseren\n",
    "4. Data cleaning\n",
    "5. Model selection and training\n",
    "6. Fine tune model\n",
    "6. Launch & maintain"
   ]
  },
  {
   "cell_type": "markdown",
   "metadata": {},
   "source": [
    "# Probleemstelling\n",
    "Onderzoeken welke facturen de kijkcijfers beïnvloeden alsook kijkcijfers voorspellen."
   ]
  },
  {
   "cell_type": "markdown",
   "metadata": {},
   "source": [
    "# Data gathering\n",
    "Data van de kijkcijfers is de vinden op CIM. We maken een klein python scriptje die iteratief de data van via API calls ophaalt bij CIM en vervolgens opslaat in een csv file. zie 'gather-views.py'\n",
    "\n",
    "1ste probleem: data voor 14 en 15 augustus 2019 ontbreken. We passen het script aan zodat het niet stopt als er 1 dag geen data gevonden wordt, maar pas stopt als het 5 achtereenvolgende dagen geen data meer kan ophalen.\n",
    "\n",
    "Data wordt opgeslaan in 'tv_views_data.csv'\n",
    "\n",
    "Sidenote: Ik heb er aan gedacht om de weersvoorspelling toe te voegen aan deze datalijst maar in mijn opinie zorgt dit voor een extra probabiliteit en hebben we meer info door gebruik te maken van seizoenen. Uit mijn ervaring is de weersvoorspelling in België een extra factor van onzekerheid en daarom geen goede maatstaf om toe te voegen aan het model."
   ]
  },
  {
   "cell_type": "markdown",
   "metadata": {},
   "source": [
    "# Data visualisatie\n",
    "Hier gaan we de data uit de csv visualiseren en onderzoeken. Kijken waar we bepaalde zaken kunnen opkuisen en eventueel al enkele patronen kunnen opmerken.\n",
    "\n",
    "Hieronder importeren we eerst enkele belangrijke packages alsook een check van de python versie zoals we in elke les deden."
   ]
  },
  {
   "cell_type": "code",
   "execution_count": 1,
   "metadata": {},
   "outputs": [
    {
     "name": "stdout",
     "output_type": "stream",
     "text": [
      "1.6.1\n"
     ]
    },
    {
     "name": "stderr",
     "output_type": "stream",
     "text": [
      "Unable to revert mtime: /Library/Fonts\n",
      "Matplotlib is building the font cache; this may take a moment.\n"
     ]
    }
   ],
   "source": [
    "# Python ≥3.11 is required\n",
    "import sys\n",
    "assert sys.version_info >= (3, 11)\n",
    "\n",
    "# Scikit-Learn ≥ 1.6 is required\n",
    "from packaging import version\n",
    "import sklearn\n",
    "print(sklearn.__version__)\n",
    "assert version.parse(sklearn.__version__) >= version.parse(\"1.6\")\n",
    "\n",
    "# Common imports\n",
    "import numpy as np\n",
    "import pandas as pd\n",
    "import os\n",
    "\n",
    "# To plot pretty figures\n",
    "import matplotlib as mpl\n",
    "import matplotlib.pyplot as plt"
   ]
  },
  {
   "cell_type": "markdown",
   "metadata": {},
   "source": [
    "We lezen de data en in bekijken de eerste 10 records, daarna bekijken we de info van de algehele tabel."
   ]
  },
  {
   "cell_type": "code",
   "execution_count": 3,
   "metadata": {},
   "outputs": [
    {
     "data": {
      "text/html": [
       "<div>\n",
       "<style scoped>\n",
       "    .dataframe tbody tr th:only-of-type {\n",
       "        vertical-align: middle;\n",
       "    }\n",
       "\n",
       "    .dataframe tbody tr th {\n",
       "        vertical-align: top;\n",
       "    }\n",
       "\n",
       "    .dataframe thead th {\n",
       "        text-align: right;\n",
       "    }\n",
       "</style>\n",
       "<table border=\"1\" class=\"dataframe\">\n",
       "  <thead>\n",
       "    <tr style=\"text-align: right;\">\n",
       "      <th></th>\n",
       "      <th>description</th>\n",
       "      <th>category</th>\n",
       "      <th>channel</th>\n",
       "      <th>startTime</th>\n",
       "      <th>rLength</th>\n",
       "      <th>rateInK</th>\n",
       "      <th>live</th>\n",
       "      <th>rateInKAll</th>\n",
       "      <th>shr</th>\n",
       "      <th>ratePerc</th>\n",
       "      <th>date</th>\n",
       "    </tr>\n",
       "  </thead>\n",
       "  <tbody>\n",
       "    <tr>\n",
       "      <th>0</th>\n",
       "      <td>THUIS</td>\n",
       "      <td>NaN</td>\n",
       "      <td>VRT 1</td>\n",
       "      <td>20:24:14</td>\n",
       "      <td>00:24:08</td>\n",
       "      <td>873.935</td>\n",
       "      <td>0</td>\n",
       "      <td>NaN</td>\n",
       "      <td>NaN</td>\n",
       "      <td>NaN</td>\n",
       "      <td>2025-04-03</td>\n",
       "    </tr>\n",
       "    <tr>\n",
       "      <th>1</th>\n",
       "      <td>HET 7 UUR-JOURNAAL</td>\n",
       "      <td>NaN</td>\n",
       "      <td>VRT 1</td>\n",
       "      <td>19:00:05</td>\n",
       "      <td>00:48:22</td>\n",
       "      <td>859.904</td>\n",
       "      <td>0</td>\n",
       "      <td>NaN</td>\n",
       "      <td>NaN</td>\n",
       "      <td>NaN</td>\n",
       "      <td>2025-04-03</td>\n",
       "    </tr>\n",
       "    <tr>\n",
       "      <th>2</th>\n",
       "      <td>MAN BIJT HOND</td>\n",
       "      <td>NaN</td>\n",
       "      <td>VRT 1</td>\n",
       "      <td>19:51:09</td>\n",
       "      <td>00:24:55</td>\n",
       "      <td>702.872</td>\n",
       "      <td>0</td>\n",
       "      <td>NaN</td>\n",
       "      <td>NaN</td>\n",
       "      <td>NaN</td>\n",
       "      <td>2025-04-03</td>\n",
       "    </tr>\n",
       "    <tr>\n",
       "      <th>3</th>\n",
       "      <td>NIEUWS 19U VTM</td>\n",
       "      <td>NaN</td>\n",
       "      <td>VTM</td>\n",
       "      <td>18:59:50</td>\n",
       "      <td>00:59:10</td>\n",
       "      <td>562.650</td>\n",
       "      <td>0</td>\n",
       "      <td>NaN</td>\n",
       "      <td>NaN</td>\n",
       "      <td>NaN</td>\n",
       "      <td>2025-04-03</td>\n",
       "    </tr>\n",
       "    <tr>\n",
       "      <th>4</th>\n",
       "      <td>BLOKKEN</td>\n",
       "      <td>NaN</td>\n",
       "      <td>VRT 1</td>\n",
       "      <td>18:29:28</td>\n",
       "      <td>00:28:30</td>\n",
       "      <td>478.774</td>\n",
       "      <td>0</td>\n",
       "      <td>NaN</td>\n",
       "      <td>NaN</td>\n",
       "      <td>NaN</td>\n",
       "      <td>2025-04-03</td>\n",
       "    </tr>\n",
       "  </tbody>\n",
       "</table>\n",
       "</div>"
      ],
      "text/plain": [
       "          description  category channel startTime   rLength  rateInK  live  \\\n",
       "0               THUIS       NaN   VRT 1  20:24:14  00:24:08  873.935     0   \n",
       "1  HET 7 UUR-JOURNAAL       NaN   VRT 1  19:00:05  00:48:22  859.904     0   \n",
       "2       MAN BIJT HOND       NaN   VRT 1  19:51:09  00:24:55  702.872     0   \n",
       "3      NIEUWS 19U VTM       NaN     VTM  18:59:50  00:59:10  562.650     0   \n",
       "4             BLOKKEN       NaN   VRT 1  18:29:28  00:28:30  478.774     0   \n",
       "\n",
       "   rateInKAll  shr  ratePerc        date  \n",
       "0         NaN  NaN       NaN  2025-04-03  \n",
       "1         NaN  NaN       NaN  2025-04-03  \n",
       "2         NaN  NaN       NaN  2025-04-03  \n",
       "3         NaN  NaN       NaN  2025-04-03  \n",
       "4         NaN  NaN       NaN  2025-04-03  "
      ]
     },
     "execution_count": 3,
     "metadata": {},
     "output_type": "execute_result"
    }
   ],
   "source": [
    "tv_views = pd.read_csv('tv_views_data.csv')\n",
    "tv_views.head()\n"
   ]
  },
  {
   "cell_type": "markdown",
   "metadata": {},
   "source": [
    "Als we de info van de lijst bekijken zien we dat er heel wat null values zijn. Ik wil eerst alle data bekijken alvorens ik dit ga opkuisen. Zo krijg ik al een eerste visueel beeld van de data alvorens ik vanalles ga verwijderen. Ookal ben ik vrijwel zeker dat de null values weg mogen."
   ]
  },
  {
   "cell_type": "code",
   "execution_count": 4,
   "metadata": {},
   "outputs": [
    {
     "name": "stdout",
     "output_type": "stream",
     "text": [
      "<class 'pandas.core.frame.DataFrame'>\n",
      "RangeIndex: 62459 entries, 0 to 62458\n",
      "Data columns (total 11 columns):\n",
      " #   Column       Non-Null Count  Dtype  \n",
      "---  ------       --------------  -----  \n",
      " 0   description  62441 non-null  object \n",
      " 1   category     0 non-null      float64\n",
      " 2   channel      62373 non-null  object \n",
      " 3   startTime    62371 non-null  object \n",
      " 4   rLength      62370 non-null  object \n",
      " 5   rateInK      62370 non-null  object \n",
      " 6   live         62459 non-null  int64  \n",
      " 7   rateInKAll   0 non-null      float64\n",
      " 8   shr          0 non-null      float64\n",
      " 9   ratePerc     0 non-null      float64\n",
      " 10  date         62459 non-null  object \n",
      "dtypes: float64(4), int64(1), object(6)\n",
      "memory usage: 5.2+ MB\n"
     ]
    }
   ],
   "source": [
    "tv_views.info()\n"
   ]
  },
  {
   "cell_type": "code",
   "execution_count": 8,
   "metadata": {},
   "outputs": [
    {
     "name": "stdout",
     "output_type": "stream",
     "text": [
      "<class 'pandas.core.frame.DataFrame'>\n",
      "RangeIndex: 62459 entries, 0 to 62458\n",
      "Data columns (total 7 columns):\n",
      " #   Column       Non-Null Count  Dtype          \n",
      "---  ------       --------------  -----          \n",
      " 0   description  62459 non-null  object         \n",
      " 1   channel      62459 non-null  object         \n",
      " 2   startTime    62371 non-null  object         \n",
      " 3   rLength      62368 non-null  timedelta64[ns]\n",
      " 4   rateInK      58828 non-null  float64        \n",
      " 5   live         62459 non-null  bool           \n",
      " 6   date         62459 non-null  datetime64[ns] \n",
      "dtypes: bool(1), datetime64[ns](1), float64(1), object(3), timedelta64[ns](1)\n",
      "memory usage: 2.9+ MB\n"
     ]
    }
   ],
   "source": [
    "# alle kolomen goedzetten\n",
    "tv_views = tv_views.dropna(axis=1, how='all')\n",
    "# Convert data types\n",
    "tv_views['description'] = tv_views['description'].astype(str)\n",
    "tv_views['channel'] = tv_views['channel'].astype(str)\n",
    "tv_views['live'] = tv_views['live'].astype(bool)\n",
    "tv_views['rateInK'] = pd.to_numeric(tv_views['rateInK'], errors='coerce')\n",
    "\n",
    "# Convert rLength to timedelta\n",
    "tv_views['rLength'] = pd.to_timedelta(tv_views['rLength'], errors='coerce')\n",
    "\n",
    "tv_views.info()\n"
   ]
  },
  {
   "cell_type": "markdown",
   "metadata": {},
   "source": [
    "Eerst doen we een algemene visualisatie van de data. Daarna wil ook wat dieper ingaan op de data rond de Covid-19 lockdown periodes. Volgens mij zouden de kijkcijfers daar iets hoger liggen dan het gemiddelde. Afhankelijk van deze observatie moet ik de beslissing maken of ik deze data als uitschieter benoem of niet. Want laat ons hopen dat zo'n lockdown niet meer terugkomt.\n",
    "\n",
    "Periode waar horeca gesloten was:\n",
    "- 13 maart 2020 tot 8 juni 2020\n",
    "- 16 oktober 2020 tot 11 mei 2021"
   ]
  },
  {
   "cell_type": "code",
   "execution_count": 10,
   "metadata": {},
   "outputs": [
    {
     "ename": "NameError",
     "evalue": "name 'sns' is not defined",
     "output_type": "error",
     "traceback": [
      "\u001b[31m---------------------------------------------------------------------------\u001b[39m",
      "\u001b[31mNameError\u001b[39m                                 Traceback (most recent call last)",
      "\u001b[36mCell\u001b[39m\u001b[36m \u001b[39m\u001b[32mIn[10]\u001b[39m\u001b[32m, line 8\u001b[39m\n\u001b[32m      6\u001b[39m \u001b[38;5;66;03m# Create heatmap of correlation matrix\u001b[39;00m\n\u001b[32m      7\u001b[39m plt.figure(figsize=(\u001b[32m15\u001b[39m, \u001b[32m6\u001b[39m))\n\u001b[32m----> \u001b[39m\u001b[32m8\u001b[39m \u001b[43msns\u001b[49m.heatmap(correlation_matrix, annot=\u001b[38;5;28;01mTrue\u001b[39;00m, cmap=\u001b[33m'\u001b[39m\u001b[33mcoolwarm\u001b[39m\u001b[33m'\u001b[39m, center=\u001b[32m0\u001b[39m)\n\u001b[32m      9\u001b[39m plt.title(\u001b[33m'\u001b[39m\u001b[33mCorrelation Matrix of TV Viewing Data\u001b[39m\u001b[33m'\u001b[39m)\n\u001b[32m     10\u001b[39m plt.tight_layout()\n",
      "\u001b[31mNameError\u001b[39m: name 'sns' is not defined"
     ]
    },
    {
     "data": {
      "text/plain": [
       "<Figure size 1500x600 with 0 Axes>"
      ]
     },
     "metadata": {},
     "output_type": "display_data"
    }
   ],
   "source": [
    "# check viewer count per day to see the effect of the lockdowns\n",
    "\n"
   ]
  }
 ],
 "metadata": {
  "kernelspec": {
   "display_name": "venv",
   "language": "python",
   "name": "python3"
  },
  "language_info": {
   "codemirror_mode": {
    "name": "ipython",
    "version": 3
   },
   "file_extension": ".py",
   "mimetype": "text/x-python",
   "name": "python",
   "nbconvert_exporter": "python",
   "pygments_lexer": "ipython3",
   "version": "3.12.9"
  }
 },
 "nbformat": 4,
 "nbformat_minor": 2
}
