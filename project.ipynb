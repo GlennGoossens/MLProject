{
 "cells": [
  {
   "cell_type": "markdown",
   "metadata": {},
   "source": [
    "## Project Kijkcijfers\n",
    "Onderzoeken welke facturen de kijkcijfers beïnvloeden alsook kijkcijfers voorspellen.\n",
    "\n",
    "### Stappenplan\n",
    "1. Probleemstelling\n",
    "2. Data gathering\n",
    "3. Data visualiseren en analyseren\n",
    "4. Data cleaning\n",
    "5. Model selection and training\n",
    "6. Fine tune model\n",
    "6. Launch & maintain"
   ]
  },
  {
   "cell_type": "markdown",
   "metadata": {},
   "source": [
    "# Probleemstelling\n",
    "Onderzoeken welke facturen de kijkcijfers beïnvloeden alsook kijkcijfers voorspellen."
   ]
  },
  {
   "cell_type": "markdown",
   "metadata": {},
   "source": [
    "# Data gathering\n",
    "Data van de kijkcijfers is de vinden op CIM. We maken een klein python scriptje die iteratief de data van via API calls ophaalt bij CIM en vervolgens opslaat in een csv file. zie 'gather-views.py'\n",
    "\n",
    "1ste probleem: data voor 14 en 15 augustus 2019 ontbreken. We passen het script aan zodat het niet stopt als er 1 dag geen data gevonden wordt, maar pas stopt als het 5 achtereenvolgende dagen geen data meer kan ophalen.\n",
    "\n",
    "Data wordt opgeslaan in 'tv_views_data.csv'\n",
    "\n",
    "Sidenote: Ik heb er aan gedacht om de weersvoorspelling toe te voegen aan deze datalijst maar in mijn opinie zorgt dit voor een extra probabiliteit en hebben we meer info door gebruik te maken van seizoenen. Uit mijn ervaring is de weersvoorspelling in België een extra factor van onzekerheid en daarom geen goede maatstaf om toe te voegen aan het model."
   ]
  },
  {
   "cell_type": "markdown",
   "metadata": {},
   "source": [
    "# Data visualisatie\n",
    "Hier gaan we de data uit de csv visualiseren en onderzoeken. Kijken waar we bepaalde zaken kunnen opkuisen en eventueel al enkele patronen kunnen opmerken.\n",
    "\n",
    "Hieronder importeren we eerst enkele belangrijke packages alsook een check van de python versie zoals we in elke les deden."
   ]
  },
  {
   "cell_type": "code",
   "execution_count": 2,
   "metadata": {},
   "outputs": [
    {
     "name": "stdout",
     "output_type": "stream",
     "text": [
      "1.6.1\n"
     ]
    }
   ],
   "source": [
    "# Python ≥3.11 is required\n",
    "import sys\n",
    "assert sys.version_info >= (3, 11)\n",
    "\n",
    "# Scikit-Learn ≥ 1.6 is required\n",
    "from packaging import version\n",
    "import sklearn\n",
    "print(sklearn.__version__)\n",
    "assert version.parse(sklearn.__version__) >= version.parse(\"1.6\")\n",
    "\n",
    "# Common imports\n",
    "import numpy as np\n",
    "import pandas as pd\n",
    "import os\n",
    "\n",
    "# To plot pretty figures\n",
    "import matplotlib as mpl\n",
    "import matplotlib.pyplot as plt"
   ]
  },
  {
   "cell_type": "markdown",
   "metadata": {},
   "source": [
    "Als we de info van de lijst bekijken zien we dat er heel wat null values zijn. Ik wil eerst alle data bekijken alvorens ik dit ga opkuisen. Zo krijg ik al een eerste visueel beeld van de data alvorens ik vanalles ga verwijderen. Ookal ben ik vrijwel zeker dat de null values weg mogen."
   ]
  },
  {
   "cell_type": "code",
   "execution_count": 68,
   "metadata": {},
   "outputs": [
    {
     "name": "stdout",
     "output_type": "stream",
     "text": [
      "<class 'pandas.core.frame.DataFrame'>\n",
      "Index: 58828 entries, 0 to 62458\n",
      "Data columns (total 7 columns):\n",
      " #   Column       Non-Null Count  Dtype          \n",
      "---  ------       --------------  -----          \n",
      " 0   description  58828 non-null  object         \n",
      " 1   channel      58828 non-null  object         \n",
      " 2   startTime    58828 non-null  object         \n",
      " 3   rLength      58828 non-null  timedelta64[ns]\n",
      " 4   rateInK      58828 non-null  float64        \n",
      " 5   live         58828 non-null  bool           \n",
      " 6   date         58828 non-null  object         \n",
      "dtypes: bool(1), float64(1), object(4), timedelta64[ns](1)\n",
      "memory usage: 3.2+ MB\n"
     ]
    },
    {
     "data": {
      "text/html": [
       "<div>\n",
       "<style scoped>\n",
       "    .dataframe tbody tr th:only-of-type {\n",
       "        vertical-align: middle;\n",
       "    }\n",
       "\n",
       "    .dataframe tbody tr th {\n",
       "        vertical-align: top;\n",
       "    }\n",
       "\n",
       "    .dataframe thead th {\n",
       "        text-align: right;\n",
       "    }\n",
       "</style>\n",
       "<table border=\"1\" class=\"dataframe\">\n",
       "  <thead>\n",
       "    <tr style=\"text-align: right;\">\n",
       "      <th></th>\n",
       "      <th>description</th>\n",
       "      <th>channel</th>\n",
       "      <th>startTime</th>\n",
       "      <th>rLength</th>\n",
       "      <th>rateInK</th>\n",
       "      <th>live</th>\n",
       "      <th>date</th>\n",
       "    </tr>\n",
       "  </thead>\n",
       "  <tbody>\n",
       "    <tr>\n",
       "      <th>0</th>\n",
       "      <td>THUIS</td>\n",
       "      <td>VRT 1</td>\n",
       "      <td>20:24:14</td>\n",
       "      <td>0 days 00:24:08</td>\n",
       "      <td>873.935</td>\n",
       "      <td>False</td>\n",
       "      <td>2025-04-03</td>\n",
       "    </tr>\n",
       "    <tr>\n",
       "      <th>1</th>\n",
       "      <td>HET 7 UUR-JOURNAAL</td>\n",
       "      <td>VRT 1</td>\n",
       "      <td>19:00:05</td>\n",
       "      <td>0 days 00:48:22</td>\n",
       "      <td>859.904</td>\n",
       "      <td>False</td>\n",
       "      <td>2025-04-03</td>\n",
       "    </tr>\n",
       "    <tr>\n",
       "      <th>2</th>\n",
       "      <td>MAN BIJT HOND</td>\n",
       "      <td>VRT 1</td>\n",
       "      <td>19:51:09</td>\n",
       "      <td>0 days 00:24:55</td>\n",
       "      <td>702.872</td>\n",
       "      <td>False</td>\n",
       "      <td>2025-04-03</td>\n",
       "    </tr>\n",
       "    <tr>\n",
       "      <th>3</th>\n",
       "      <td>NIEUWS 19U VTM</td>\n",
       "      <td>VTM</td>\n",
       "      <td>18:59:50</td>\n",
       "      <td>0 days 00:59:10</td>\n",
       "      <td>562.650</td>\n",
       "      <td>False</td>\n",
       "      <td>2025-04-03</td>\n",
       "    </tr>\n",
       "    <tr>\n",
       "      <th>4</th>\n",
       "      <td>BLOKKEN</td>\n",
       "      <td>VRT 1</td>\n",
       "      <td>18:29:28</td>\n",
       "      <td>0 days 00:28:30</td>\n",
       "      <td>478.774</td>\n",
       "      <td>False</td>\n",
       "      <td>2025-04-03</td>\n",
       "    </tr>\n",
       "  </tbody>\n",
       "</table>\n",
       "</div>"
      ],
      "text/plain": [
       "          description channel startTime         rLength  rateInK   live  \\\n",
       "0               THUIS   VRT 1  20:24:14 0 days 00:24:08  873.935  False   \n",
       "1  HET 7 UUR-JOURNAAL   VRT 1  19:00:05 0 days 00:48:22  859.904  False   \n",
       "2       MAN BIJT HOND   VRT 1  19:51:09 0 days 00:24:55  702.872  False   \n",
       "3      NIEUWS 19U VTM     VTM  18:59:50 0 days 00:59:10  562.650  False   \n",
       "4             BLOKKEN   VRT 1  18:29:28 0 days 00:28:30  478.774  False   \n",
       "\n",
       "         date  \n",
       "0  2025-04-03  \n",
       "1  2025-04-03  \n",
       "2  2025-04-03  \n",
       "3  2025-04-03  \n",
       "4  2025-04-03  "
      ]
     },
     "execution_count": 68,
     "metadata": {},
     "output_type": "execute_result"
    }
   ],
   "source": [
    "tv_views = pd.read_csv('tv_views_data.csv')\n",
    "# alle kolomen goedzetten\n",
    "tv_views = tv_views.dropna(axis=1, how='all')\n",
    "# Convert data types\n",
    "tv_views['description'] = tv_views['description'].astype(str)\n",
    "tv_views['channel'] = tv_views['channel'].astype(str)\n",
    "tv_views['live'] = tv_views['live'].astype(bool)\n",
    "tv_views['rateInK'] = pd.to_numeric(tv_views['rateInK'], errors='coerce')\n",
    "\n",
    "# Convert rLength to timedelta\n",
    "tv_views['rLength'] = pd.to_timedelta(tv_views['rLength'], errors='coerce')\n",
    "\n",
    "tv_views = tv_views.dropna(axis=0, subset=['startTime', 'rLength', 'rateInK'])\n",
    "\n",
    "tv_views.info()\n",
    "tv_views.head()"
   ]
  },
  {
   "cell_type": "code",
   "execution_count": 70,
   "metadata": {},
   "outputs": [
    {
     "data": {
      "text/html": [
       "<div>\n",
       "<style scoped>\n",
       "    .dataframe tbody tr th:only-of-type {\n",
       "        vertical-align: middle;\n",
       "    }\n",
       "\n",
       "    .dataframe tbody tr th {\n",
       "        vertical-align: top;\n",
       "    }\n",
       "\n",
       "    .dataframe thead th {\n",
       "        text-align: right;\n",
       "    }\n",
       "</style>\n",
       "<table border=\"1\" class=\"dataframe\">\n",
       "  <thead>\n",
       "    <tr style=\"text-align: right;\">\n",
       "      <th></th>\n",
       "      <th>description</th>\n",
       "      <th>channel</th>\n",
       "      <th>startTime</th>\n",
       "      <th>rLength</th>\n",
       "      <th>rateInK</th>\n",
       "      <th>live</th>\n",
       "      <th>date</th>\n",
       "    </tr>\n",
       "  </thead>\n",
       "  <tbody>\n",
       "  </tbody>\n",
       "</table>\n",
       "</div>"
      ],
      "text/plain": [
       "Empty DataFrame\n",
       "Columns: [description, channel, startTime, rLength, rateInK, live, date]\n",
       "Index: []"
      ]
     },
     "metadata": {},
     "output_type": "display_data"
    }
   ],
   "source": [
    "# transform channel to category\n",
    "tv_views['channel'].value_counts()\n",
    "channel_mapping = {\n",
    "    'EEN': '1',\n",
    "    'VTM': '3',\n",
    "    'VRT 1': '1',\n",
    "    'VIER': '4',\n",
    "    'PLAY4': '4',\n",
    "    'Canvas': '2',\n",
    "    'CANVAS': '2',\n",
    "    'VRT CANVAS': '2',\n",
    "    'Q2': '6',\n",
    "    'VTM2': '6',\n",
    "    'VITAYA': '7',\n",
    "    'PLAY5': '5',\n",
    "    'VIJF1': '5',\n",
    "    'VTM3': '7',\n",
    "    'EUROSPORT 1 (NL)': '11',\n",
    "    'OP 12': '2',\n",
    "    'VTM4': '8',\n",
    "    'VTM GOLD': '18',\n",
    "    'PLAY SPORTS OPEN': '11',\n",
    "    'TF1': '99',\n",
    "    'ZES': '6',\n",
    "    'AB3': '99',\n",
    "    'Source': '99',\n",
    "    'All': '99',\n",
    "    'Channel': '99',\n",
    "    'KETNET': '2',\n",
    "    'ELEVEN PRO LEAGUE 1 NL': '11',\n",
    "    'nan': '99'\n",
    "}\n",
    "# First map the channels\n",
    "tv_views['channel'] = tv_views['channel'].map(channel_mapping)\n",
    "\n",
    "# Then remove rows where channel is NaN (no mapping found)\n",
    "tv_views = tv_views.dropna(subset=['channel'])\n",
    "\n",
    "# Convert to integer\n",
    "tv_views['channel'] = tv_views['channel'].astype(int)\n",
    "\n",
    "# Display the first few rows to verify\n",
    "display(tv_views.head())\n",
    "\n",
    "\n"
   ]
  },
  {
   "cell_type": "code",
   "execution_count": 71,
   "metadata": {},
   "outputs": [
    {
     "data": {
      "text/plain": [
       "Series([], Name: count, dtype: int64)"
      ]
     },
     "execution_count": 71,
     "metadata": {},
     "output_type": "execute_result"
    }
   ],
   "source": [
    "# histogram maken van alle waarden per dag => overzicht scheppen\n",
    "tv_views['description'].value_counts()"
   ]
  },
  {
   "cell_type": "code",
   "execution_count": null,
   "metadata": {},
   "outputs": [],
   "source": [
    "# transform description to category\n"
   ]
  },
  {
   "cell_type": "code",
   "execution_count": 51,
   "metadata": {},
   "outputs": [],
   "source": [
    "\n",
    "# transform starttime to number per halfhour\n",
    "# Convert startTime to numeric value (0.5 per half hour)\n",
    "def time_to_numeric(time_str):\n",
    "    # Handle float values by converting to string first\n",
    "    if isinstance(time_str, float):\n",
    "        return time_str\n",
    "    try:\n",
    "        hours, minutes, seconds = map(int, time_str.split(':'))\n",
    "        total_hours = hours + minutes/60 + seconds/3600\n",
    "        return round(total_hours * 2) / 2  # Round to nearest 0.5\n",
    "    except (ValueError, AttributeError):\n",
    "        return time_str  # Return original value if conversion fails\n",
    "\n",
    "tv_views['startTime'] = tv_views['startTime'].apply(time_to_numeric)\n",
    "\n"
   ]
  },
  {
   "cell_type": "code",
   "execution_count": 52,
   "metadata": {},
   "outputs": [
    {
     "ename": "IntCastingNaNError",
     "evalue": "Cannot convert non-finite values (NA or inf) to integer",
     "output_type": "error",
     "traceback": [
      "\u001b[31m---------------------------------------------------------------------------\u001b[39m",
      "\u001b[31mIntCastingNaNError\u001b[39m                        Traceback (most recent call last)",
      "\u001b[36mCell\u001b[39m\u001b[36m \u001b[39m\u001b[32mIn[52]\u001b[39m\u001b[32m, line 2\u001b[39m\n\u001b[32m      1\u001b[39m \u001b[38;5;66;03m# transform rlength to seconds\u001b[39;00m\n\u001b[32m----> \u001b[39m\u001b[32m2\u001b[39m tv_views[\u001b[33m'\u001b[39m\u001b[33mrLength\u001b[39m\u001b[33m'\u001b[39m] = \u001b[43mtv_views\u001b[49m\u001b[43m[\u001b[49m\u001b[33;43m'\u001b[39;49m\u001b[33;43mrLength\u001b[39;49m\u001b[33;43m'\u001b[39;49m\u001b[43m]\u001b[49m\u001b[43m.\u001b[49m\u001b[43mdt\u001b[49m\u001b[43m.\u001b[49m\u001b[43mtotal_seconds\u001b[49m\u001b[43m(\u001b[49m\u001b[43m)\u001b[49m\u001b[43m.\u001b[49m\u001b[43mastype\u001b[49m\u001b[43m(\u001b[49m\u001b[38;5;28;43mint\u001b[39;49m\u001b[43m)\u001b[49m\n",
      "\u001b[36mFile \u001b[39m\u001b[32m~/Projects/MLProject/venv/lib/python3.12/site-packages/pandas/core/generic.py:6643\u001b[39m, in \u001b[36mNDFrame.astype\u001b[39m\u001b[34m(self, dtype, copy, errors)\u001b[39m\n\u001b[32m   6637\u001b[39m     results = [\n\u001b[32m   6638\u001b[39m         ser.astype(dtype, copy=copy, errors=errors) \u001b[38;5;28;01mfor\u001b[39;00m _, ser \u001b[38;5;129;01min\u001b[39;00m \u001b[38;5;28mself\u001b[39m.items()\n\u001b[32m   6639\u001b[39m     ]\n\u001b[32m   6641\u001b[39m \u001b[38;5;28;01melse\u001b[39;00m:\n\u001b[32m   6642\u001b[39m     \u001b[38;5;66;03m# else, only a single dtype is given\u001b[39;00m\n\u001b[32m-> \u001b[39m\u001b[32m6643\u001b[39m     new_data = \u001b[38;5;28;43mself\u001b[39;49m\u001b[43m.\u001b[49m\u001b[43m_mgr\u001b[49m\u001b[43m.\u001b[49m\u001b[43mastype\u001b[49m\u001b[43m(\u001b[49m\u001b[43mdtype\u001b[49m\u001b[43m=\u001b[49m\u001b[43mdtype\u001b[49m\u001b[43m,\u001b[49m\u001b[43m \u001b[49m\u001b[43mcopy\u001b[49m\u001b[43m=\u001b[49m\u001b[43mcopy\u001b[49m\u001b[43m,\u001b[49m\u001b[43m \u001b[49m\u001b[43merrors\u001b[49m\u001b[43m=\u001b[49m\u001b[43merrors\u001b[49m\u001b[43m)\u001b[49m\n\u001b[32m   6644\u001b[39m     res = \u001b[38;5;28mself\u001b[39m._constructor_from_mgr(new_data, axes=new_data.axes)\n\u001b[32m   6645\u001b[39m     \u001b[38;5;28;01mreturn\u001b[39;00m res.__finalize__(\u001b[38;5;28mself\u001b[39m, method=\u001b[33m\"\u001b[39m\u001b[33mastype\u001b[39m\u001b[33m\"\u001b[39m)\n",
      "\u001b[36mFile \u001b[39m\u001b[32m~/Projects/MLProject/venv/lib/python3.12/site-packages/pandas/core/internals/managers.py:430\u001b[39m, in \u001b[36mBaseBlockManager.astype\u001b[39m\u001b[34m(self, dtype, copy, errors)\u001b[39m\n\u001b[32m    427\u001b[39m \u001b[38;5;28;01melif\u001b[39;00m using_copy_on_write():\n\u001b[32m    428\u001b[39m     copy = \u001b[38;5;28;01mFalse\u001b[39;00m\n\u001b[32m--> \u001b[39m\u001b[32m430\u001b[39m \u001b[38;5;28;01mreturn\u001b[39;00m \u001b[38;5;28;43mself\u001b[39;49m\u001b[43m.\u001b[49m\u001b[43mapply\u001b[49m\u001b[43m(\u001b[49m\n\u001b[32m    431\u001b[39m \u001b[43m    \u001b[49m\u001b[33;43m\"\u001b[39;49m\u001b[33;43mastype\u001b[39;49m\u001b[33;43m\"\u001b[39;49m\u001b[43m,\u001b[49m\n\u001b[32m    432\u001b[39m \u001b[43m    \u001b[49m\u001b[43mdtype\u001b[49m\u001b[43m=\u001b[49m\u001b[43mdtype\u001b[49m\u001b[43m,\u001b[49m\n\u001b[32m    433\u001b[39m \u001b[43m    \u001b[49m\u001b[43mcopy\u001b[49m\u001b[43m=\u001b[49m\u001b[43mcopy\u001b[49m\u001b[43m,\u001b[49m\n\u001b[32m    434\u001b[39m \u001b[43m    \u001b[49m\u001b[43merrors\u001b[49m\u001b[43m=\u001b[49m\u001b[43merrors\u001b[49m\u001b[43m,\u001b[49m\n\u001b[32m    435\u001b[39m \u001b[43m    \u001b[49m\u001b[43musing_cow\u001b[49m\u001b[43m=\u001b[49m\u001b[43musing_copy_on_write\u001b[49m\u001b[43m(\u001b[49m\u001b[43m)\u001b[49m\u001b[43m,\u001b[49m\n\u001b[32m    436\u001b[39m \u001b[43m\u001b[49m\u001b[43m)\u001b[49m\n",
      "\u001b[36mFile \u001b[39m\u001b[32m~/Projects/MLProject/venv/lib/python3.12/site-packages/pandas/core/internals/managers.py:363\u001b[39m, in \u001b[36mBaseBlockManager.apply\u001b[39m\u001b[34m(self, f, align_keys, **kwargs)\u001b[39m\n\u001b[32m    361\u001b[39m         applied = b.apply(f, **kwargs)\n\u001b[32m    362\u001b[39m     \u001b[38;5;28;01melse\u001b[39;00m:\n\u001b[32m--> \u001b[39m\u001b[32m363\u001b[39m         applied = \u001b[38;5;28;43mgetattr\u001b[39;49m\u001b[43m(\u001b[49m\u001b[43mb\u001b[49m\u001b[43m,\u001b[49m\u001b[43m \u001b[49m\u001b[43mf\u001b[49m\u001b[43m)\u001b[49m\u001b[43m(\u001b[49m\u001b[43m*\u001b[49m\u001b[43m*\u001b[49m\u001b[43mkwargs\u001b[49m\u001b[43m)\u001b[49m\n\u001b[32m    364\u001b[39m     result_blocks = extend_blocks(applied, result_blocks)\n\u001b[32m    366\u001b[39m out = \u001b[38;5;28mtype\u001b[39m(\u001b[38;5;28mself\u001b[39m).from_blocks(result_blocks, \u001b[38;5;28mself\u001b[39m.axes)\n",
      "\u001b[36mFile \u001b[39m\u001b[32m~/Projects/MLProject/venv/lib/python3.12/site-packages/pandas/core/internals/blocks.py:758\u001b[39m, in \u001b[36mBlock.astype\u001b[39m\u001b[34m(self, dtype, copy, errors, using_cow, squeeze)\u001b[39m\n\u001b[32m    755\u001b[39m         \u001b[38;5;28;01mraise\u001b[39;00m \u001b[38;5;167;01mValueError\u001b[39;00m(\u001b[33m\"\u001b[39m\u001b[33mCan not squeeze with more than one column.\u001b[39m\u001b[33m\"\u001b[39m)\n\u001b[32m    756\u001b[39m     values = values[\u001b[32m0\u001b[39m, :]  \u001b[38;5;66;03m# type: ignore[call-overload]\u001b[39;00m\n\u001b[32m--> \u001b[39m\u001b[32m758\u001b[39m new_values = \u001b[43mastype_array_safe\u001b[49m\u001b[43m(\u001b[49m\u001b[43mvalues\u001b[49m\u001b[43m,\u001b[49m\u001b[43m \u001b[49m\u001b[43mdtype\u001b[49m\u001b[43m,\u001b[49m\u001b[43m \u001b[49m\u001b[43mcopy\u001b[49m\u001b[43m=\u001b[49m\u001b[43mcopy\u001b[49m\u001b[43m,\u001b[49m\u001b[43m \u001b[49m\u001b[43merrors\u001b[49m\u001b[43m=\u001b[49m\u001b[43merrors\u001b[49m\u001b[43m)\u001b[49m\n\u001b[32m    760\u001b[39m new_values = maybe_coerce_values(new_values)\n\u001b[32m    762\u001b[39m refs = \u001b[38;5;28;01mNone\u001b[39;00m\n",
      "\u001b[36mFile \u001b[39m\u001b[32m~/Projects/MLProject/venv/lib/python3.12/site-packages/pandas/core/dtypes/astype.py:237\u001b[39m, in \u001b[36mastype_array_safe\u001b[39m\u001b[34m(values, dtype, copy, errors)\u001b[39m\n\u001b[32m    234\u001b[39m     dtype = dtype.numpy_dtype\n\u001b[32m    236\u001b[39m \u001b[38;5;28;01mtry\u001b[39;00m:\n\u001b[32m--> \u001b[39m\u001b[32m237\u001b[39m     new_values = \u001b[43mastype_array\u001b[49m\u001b[43m(\u001b[49m\u001b[43mvalues\u001b[49m\u001b[43m,\u001b[49m\u001b[43m \u001b[49m\u001b[43mdtype\u001b[49m\u001b[43m,\u001b[49m\u001b[43m \u001b[49m\u001b[43mcopy\u001b[49m\u001b[43m=\u001b[49m\u001b[43mcopy\u001b[49m\u001b[43m)\u001b[49m\n\u001b[32m    238\u001b[39m \u001b[38;5;28;01mexcept\u001b[39;00m (\u001b[38;5;167;01mValueError\u001b[39;00m, \u001b[38;5;167;01mTypeError\u001b[39;00m):\n\u001b[32m    239\u001b[39m     \u001b[38;5;66;03m# e.g. _astype_nansafe can fail on object-dtype of strings\u001b[39;00m\n\u001b[32m    240\u001b[39m     \u001b[38;5;66;03m#  trying to convert to float\u001b[39;00m\n\u001b[32m    241\u001b[39m     \u001b[38;5;28;01mif\u001b[39;00m errors == \u001b[33m\"\u001b[39m\u001b[33mignore\u001b[39m\u001b[33m\"\u001b[39m:\n",
      "\u001b[36mFile \u001b[39m\u001b[32m~/Projects/MLProject/venv/lib/python3.12/site-packages/pandas/core/dtypes/astype.py:182\u001b[39m, in \u001b[36mastype_array\u001b[39m\u001b[34m(values, dtype, copy)\u001b[39m\n\u001b[32m    179\u001b[39m     values = values.astype(dtype, copy=copy)\n\u001b[32m    181\u001b[39m \u001b[38;5;28;01melse\u001b[39;00m:\n\u001b[32m--> \u001b[39m\u001b[32m182\u001b[39m     values = \u001b[43m_astype_nansafe\u001b[49m\u001b[43m(\u001b[49m\u001b[43mvalues\u001b[49m\u001b[43m,\u001b[49m\u001b[43m \u001b[49m\u001b[43mdtype\u001b[49m\u001b[43m,\u001b[49m\u001b[43m \u001b[49m\u001b[43mcopy\u001b[49m\u001b[43m=\u001b[49m\u001b[43mcopy\u001b[49m\u001b[43m)\u001b[49m\n\u001b[32m    184\u001b[39m \u001b[38;5;66;03m# in pandas we don't store numpy str dtypes, so convert to object\u001b[39;00m\n\u001b[32m    185\u001b[39m \u001b[38;5;28;01mif\u001b[39;00m \u001b[38;5;28misinstance\u001b[39m(dtype, np.dtype) \u001b[38;5;129;01mand\u001b[39;00m \u001b[38;5;28missubclass\u001b[39m(values.dtype.type, \u001b[38;5;28mstr\u001b[39m):\n",
      "\u001b[36mFile \u001b[39m\u001b[32m~/Projects/MLProject/venv/lib/python3.12/site-packages/pandas/core/dtypes/astype.py:101\u001b[39m, in \u001b[36m_astype_nansafe\u001b[39m\u001b[34m(arr, dtype, copy, skipna)\u001b[39m\n\u001b[32m     96\u001b[39m     \u001b[38;5;28;01mreturn\u001b[39;00m lib.ensure_string_array(\n\u001b[32m     97\u001b[39m         arr, skipna=skipna, convert_na_value=\u001b[38;5;28;01mFalse\u001b[39;00m\n\u001b[32m     98\u001b[39m     ).reshape(shape)\n\u001b[32m    100\u001b[39m \u001b[38;5;28;01melif\u001b[39;00m np.issubdtype(arr.dtype, np.floating) \u001b[38;5;129;01mand\u001b[39;00m dtype.kind \u001b[38;5;129;01min\u001b[39;00m \u001b[33m\"\u001b[39m\u001b[33miu\u001b[39m\u001b[33m\"\u001b[39m:\n\u001b[32m--> \u001b[39m\u001b[32m101\u001b[39m     \u001b[38;5;28;01mreturn\u001b[39;00m \u001b[43m_astype_float_to_int_nansafe\u001b[49m\u001b[43m(\u001b[49m\u001b[43marr\u001b[49m\u001b[43m,\u001b[49m\u001b[43m \u001b[49m\u001b[43mdtype\u001b[49m\u001b[43m,\u001b[49m\u001b[43m \u001b[49m\u001b[43mcopy\u001b[49m\u001b[43m)\u001b[49m\n\u001b[32m    103\u001b[39m \u001b[38;5;28;01melif\u001b[39;00m arr.dtype == \u001b[38;5;28mobject\u001b[39m:\n\u001b[32m    104\u001b[39m     \u001b[38;5;66;03m# if we have a datetime/timedelta array of objects\u001b[39;00m\n\u001b[32m    105\u001b[39m     \u001b[38;5;66;03m# then coerce to datetime64[ns] and use DatetimeArray.astype\u001b[39;00m\n\u001b[32m    107\u001b[39m     \u001b[38;5;28;01mif\u001b[39;00m lib.is_np_dtype(dtype, \u001b[33m\"\u001b[39m\u001b[33mM\u001b[39m\u001b[33m\"\u001b[39m):\n",
      "\u001b[36mFile \u001b[39m\u001b[32m~/Projects/MLProject/venv/lib/python3.12/site-packages/pandas/core/dtypes/astype.py:145\u001b[39m, in \u001b[36m_astype_float_to_int_nansafe\u001b[39m\u001b[34m(values, dtype, copy)\u001b[39m\n\u001b[32m    141\u001b[39m \u001b[38;5;250m\u001b[39m\u001b[33;03m\"\"\"\u001b[39;00m\n\u001b[32m    142\u001b[39m \u001b[33;03mastype with a check preventing converting NaN to an meaningless integer value.\u001b[39;00m\n\u001b[32m    143\u001b[39m \u001b[33;03m\"\"\"\u001b[39;00m\n\u001b[32m    144\u001b[39m \u001b[38;5;28;01mif\u001b[39;00m \u001b[38;5;129;01mnot\u001b[39;00m np.isfinite(values).all():\n\u001b[32m--> \u001b[39m\u001b[32m145\u001b[39m     \u001b[38;5;28;01mraise\u001b[39;00m IntCastingNaNError(\n\u001b[32m    146\u001b[39m         \u001b[33m\"\u001b[39m\u001b[33mCannot convert non-finite values (NA or inf) to integer\u001b[39m\u001b[33m\"\u001b[39m\n\u001b[32m    147\u001b[39m     )\n\u001b[32m    148\u001b[39m \u001b[38;5;28;01mif\u001b[39;00m dtype.kind == \u001b[33m\"\u001b[39m\u001b[33mu\u001b[39m\u001b[33m\"\u001b[39m:\n\u001b[32m    149\u001b[39m     \u001b[38;5;66;03m# GH#45151\u001b[39;00m\n\u001b[32m    150\u001b[39m     \u001b[38;5;28;01mif\u001b[39;00m \u001b[38;5;129;01mnot\u001b[39;00m (values >= \u001b[32m0\u001b[39m).all():\n",
      "\u001b[31mIntCastingNaNError\u001b[39m: Cannot convert non-finite values (NA or inf) to integer"
     ]
    }
   ],
   "source": [
    "# transform rlength to seconds\n",
    "tv_views['rLength'] = tv_views['rLength'].dt.total_seconds().astype(int)"
   ]
  },
  {
   "cell_type": "markdown",
   "metadata": {},
   "source": [
    "Eerst doen we een algemene visualisatie van de data. Daarna wil ook wat dieper ingaan op de data rond de Covid-19 lockdown periodes. Volgens mij zouden de kijkcijfers daar iets hoger liggen dan het gemiddelde. Afhankelijk van deze observatie moet ik de beslissing maken of ik deze data als uitschieter benoem of niet. Want laat ons hopen dat zo'n lockdown niet meer terugkomt.\n",
    "\n",
    "Periode waar horeca gesloten was:\n",
    "- 13 maart 2020 tot 8 juni 2020\n",
    "- 16 oktober 2020 tot 11 mei 2021"
   ]
  },
  {
   "cell_type": "code",
   "execution_count": 47,
   "metadata": {},
   "outputs": [
    {
     "data": {
      "text/html": [
       "<div>\n",
       "<style scoped>\n",
       "    .dataframe tbody tr th:only-of-type {\n",
       "        vertical-align: middle;\n",
       "    }\n",
       "\n",
       "    .dataframe tbody tr th {\n",
       "        vertical-align: top;\n",
       "    }\n",
       "\n",
       "    .dataframe thead th {\n",
       "        text-align: right;\n",
       "    }\n",
       "</style>\n",
       "<table border=\"1\" class=\"dataframe\">\n",
       "  <thead>\n",
       "    <tr style=\"text-align: right;\">\n",
       "      <th></th>\n",
       "      <th>description</th>\n",
       "      <th>channel</th>\n",
       "      <th>startTime</th>\n",
       "      <th>rLength</th>\n",
       "      <th>rateInK</th>\n",
       "      <th>live</th>\n",
       "      <th>date</th>\n",
       "      <th>startTime_numeric</th>\n",
       "    </tr>\n",
       "  </thead>\n",
       "  <tbody>\n",
       "    <tr>\n",
       "      <th>0</th>\n",
       "      <td>THUIS</td>\n",
       "      <td>1</td>\n",
       "      <td>20.5</td>\n",
       "      <td>0</td>\n",
       "      <td>873.935</td>\n",
       "      <td>False</td>\n",
       "      <td>2025-04-03</td>\n",
       "      <td>20.5</td>\n",
       "    </tr>\n",
       "    <tr>\n",
       "      <th>1</th>\n",
       "      <td>HET 7 UUR-JOURNAAL</td>\n",
       "      <td>1</td>\n",
       "      <td>19.0</td>\n",
       "      <td>0</td>\n",
       "      <td>859.904</td>\n",
       "      <td>False</td>\n",
       "      <td>2025-04-03</td>\n",
       "      <td>19.0</td>\n",
       "    </tr>\n",
       "    <tr>\n",
       "      <th>2</th>\n",
       "      <td>MAN BIJT HOND</td>\n",
       "      <td>1</td>\n",
       "      <td>20.0</td>\n",
       "      <td>0</td>\n",
       "      <td>702.872</td>\n",
       "      <td>False</td>\n",
       "      <td>2025-04-03</td>\n",
       "      <td>20.0</td>\n",
       "    </tr>\n",
       "    <tr>\n",
       "      <th>3</th>\n",
       "      <td>NIEUWS 19U VTM</td>\n",
       "      <td>3</td>\n",
       "      <td>19.0</td>\n",
       "      <td>0</td>\n",
       "      <td>562.650</td>\n",
       "      <td>False</td>\n",
       "      <td>2025-04-03</td>\n",
       "      <td>19.0</td>\n",
       "    </tr>\n",
       "    <tr>\n",
       "      <th>4</th>\n",
       "      <td>BLOKKEN</td>\n",
       "      <td>1</td>\n",
       "      <td>18.5</td>\n",
       "      <td>0</td>\n",
       "      <td>478.774</td>\n",
       "      <td>False</td>\n",
       "      <td>2025-04-03</td>\n",
       "      <td>18.5</td>\n",
       "    </tr>\n",
       "  </tbody>\n",
       "</table>\n",
       "</div>"
      ],
      "text/plain": [
       "          description channel startTime  rLength  rateInK   live        date  \\\n",
       "0               THUIS       1      20.5        0  873.935  False  2025-04-03   \n",
       "1  HET 7 UUR-JOURNAAL       1      19.0        0  859.904  False  2025-04-03   \n",
       "2       MAN BIJT HOND       1      20.0        0  702.872  False  2025-04-03   \n",
       "3      NIEUWS 19U VTM       3      19.0        0  562.650  False  2025-04-03   \n",
       "4             BLOKKEN       1      18.5        0  478.774  False  2025-04-03   \n",
       "\n",
       "  startTime_numeric  \n",
       "0              20.5  \n",
       "1              19.0  \n",
       "2              20.0  \n",
       "3              19.0  \n",
       "4              18.5  "
      ]
     },
     "execution_count": 49,
     "metadata": {},
     "output_type": "execute_result"
    }
   ],
   "source": [
    "# check viewer count per day to see the effect of the lockdowns\n",
    "tv_views.head()\n"
   ]
  }
 ],
 "metadata": {
  "kernelspec": {
   "display_name": "venv",
   "language": "python",
   "name": "python3"
  },
  "language_info": {
   "codemirror_mode": {
    "name": "ipython",
    "version": 3
   },
   "file_extension": ".py",
   "mimetype": "text/x-python",
   "name": "python",
   "nbconvert_exporter": "python",
   "pygments_lexer": "ipython3",
   "version": "3.12.9"
  }
 },
 "nbformat": 4,
 "nbformat_minor": 2
}
